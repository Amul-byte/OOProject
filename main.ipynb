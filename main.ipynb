{
 "cells": [
  {
   "cell_type": "code",
   "execution_count": 1,
   "id": "bb3820d8",
   "metadata": {},
   "outputs": [
    {
     "data": {
      "text/plain": [
       "{'entities': [{'start': 26,\n",
       "   'end': 36,\n",
       "   'type': 'programming languages',\n",
       "   'text': 'Javascript'},\n",
       "  {'start': 102,\n",
       "   'end': 108,\n",
       "   'type': 'programming languages',\n",
       "   'text': 'Python'},\n",
       "  {'start': 165, 'end': 167, 'type': 'programming languages', 'text': 'Go'}]}"
      ]
     },
     "execution_count": 1,
     "metadata": {},
     "output_type": "execute_result"
    }
   ],
   "source": [
    "import nlpcloud\n",
    "\n",
    "client = nlpcloud.Client(\"finetuned-llama-3-70b\", \"03d7fd9885b8092b39b7e74641547b9bc4bdda5f\", gpu=True)\n",
    "client.entities(\n",
    "    \"\"\"John Doe started learning Javascript when he was 15 years old. After a couple of years he switched to Python and starter learning low level programming. He is now a Go expert at Google.\"\"\",\n",
    "    searched_entity=\"programming languages\"\n",
    ")"
   ]
  },
  {
   "cell_type": "code",
   "execution_count": null,
   "id": "6cd5d867",
   "metadata": {},
   "outputs": [
    {
     "name": "stdout",
     "output_type": "stream",
     "text": [
      "Register comlete\n",
      "This is yout info[email : [name,password]]\n",
      "                {'pramul': ['pramul', 'pramul']}\n",
      "Login Sucessfull\n",
      "okay\n",
      "{'entities': [{'start': 7, 'end': 10, 'type': 'don', 'text': 'don'}]}\n"
     ]
    }
   ],
   "source": [
    "import nlpcloud\n",
    "import dotenv\n",
    "import os\n",
    "dotenv.load_dotenv(override=True)\n",
    "\n",
    "LLAMA_API_KEY = os.getenv(\"LLAMA_API_KEY\")\n",
    "\n",
    "class NLPapp:\n",
    "    def __init__(self):\n",
    "        self.__database = {}\n",
    "        self.__first_menu()\n",
    "        \n",
    "        \n",
    "    def __first_menu(self):\n",
    "        first_input = input(\"\"\"How would you like to proceed(Press the number accordingly)\n",
    "                 1. Register\n",
    "                 2. Login\n",
    "                 3. Wrong click\"\"\")\n",
    "        \n",
    "        if first_input == '1':\n",
    "            self.__register()\n",
    "            \n",
    "        elif first_input == \"2\":\n",
    "            self.__login()\n",
    "            \n",
    "        else:\n",
    "            exit()\n",
    "     \n",
    "        \n",
    "    def __register(self):\n",
    "        \n",
    "        name = input(\"Enter your name\")\n",
    "        email = input(\"Enter Your email\")\n",
    "        password = input(\"Enter the password\")\n",
    "\n",
    "        if email in self.__database:\n",
    "            print(\"Email is taken\")\n",
    "            \n",
    "        else:\n",
    "            self.__database[email]= [name,password]\n",
    "            print(\"Register comlete\")\n",
    "            print(f\"\"\"This is yout info[email : [name,password]]\n",
    "                {self.__database}\"\"\")\n",
    "            self.__login()\n",
    "            \n",
    "    def __login(self):\n",
    "        email = input(\"Enter email\")\n",
    "        password= input(\"Enter your password\")\n",
    "        \n",
    "        if email in self.__database:\n",
    "            if self.__database[email][1]==password:\n",
    "                print(\"Login Sucessfull\")\n",
    "                self.__second_menu()\n",
    "            else:\n",
    "                exit()\n",
    "        else:\n",
    "            print(\"This email; is not registered\")\n",
    "            self.__first_menu()\n",
    "    \n",
    "    def __second_menu(self):\n",
    "        second_input = input(\"\"\"How would you like to proceed(Press the number accordingly)\n",
    "                 1. NER\n",
    "                 2. Language detection\n",
    "                 3. Sentiment\n",
    "                 4. LogOut\"\"\")\n",
    "        print(\"okay\")\n",
    "        \n",
    "        if second_input == '1':\n",
    "            self.__ner()\n",
    "        elif second_input  == \"2\":\n",
    "            self.__lang_dect()\n",
    "        elif second_input == \"3\":\n",
    "            self.__sentiment()\n",
    "        elif second_input == \"4\":\n",
    "            self.__Logout()\n",
    "        else:\n",
    "            print(\"Wrong key\")\n",
    "            exit()\n",
    "            \n",
    "            \n",
    "    def __ner(self):\n",
    "        para = input(\"Enter the paragraph\")\n",
    "        term = input(\"Enter the term yopu want to search\")\n",
    "        client = nlpcloud.Client(\"finetuned-llama-3-70b\", LLAMA_API_KEY, gpu=True)\n",
    "        response = client.entities(para,\n",
    "        searched_entity=term)\n",
    "        print(\"here is your result\")\n",
    "        print(response)\n",
    "        \n",
    "    def __lang_dect(self):\n",
    "        pass\n",
    "    def __sentiment(self):\n",
    "        pass\n",
    "    def __Logout(self):\n",
    "        print(\"Sucessfully Logout\")\n",
    "        self.__first_menu()\n",
    "    \n",
    "obj = NLPapp()"
   ]
  },
  {
   "cell_type": "code",
   "execution_count": null,
   "id": "3008bdb3",
   "metadata": {},
   "outputs": [],
   "source": []
  }
 ],
 "metadata": {
  "kernelspec": {
   "display_name": "OOProject",
   "language": "python",
   "name": "python3"
  },
  "language_info": {
   "codemirror_mode": {
    "name": "ipython",
    "version": 3
   },
   "file_extension": ".py",
   "mimetype": "text/x-python",
   "name": "python",
   "nbconvert_exporter": "python",
   "pygments_lexer": "ipython3",
   "version": "3.11.13"
  }
 },
 "nbformat": 4,
 "nbformat_minor": 5
}
